{
 "cells": [
  {
   "cell_type": "code",
   "execution_count": 1,
   "metadata": {},
   "outputs": [],
   "source": [
    "import os\n",
    "import sys\n",
    "import time\n",
    "\n",
    "import ipywidgets as widgets\n",
    "\n",
    "from openvino.inference_engine import IECore\n",
    "from tqdm import tqdm_notebook as tqdm"
   ]
  },
  {
   "cell_type": "code",
   "execution_count": 17,
   "metadata": {},
   "outputs": [
    {
     "data": {
      "application/vnd.jupyter.widget-view+json": {
       "model_id": "6f68feabccdf480492487ac6c35e982e",
       "version_major": 2,
       "version_minor": 0
      },
      "text/plain": [
       "Select(description='Device', options=('CPU', 'GPU', 'MYRIAD', 'HETERO:FPGA,CPU'), value='CPU')"
      ]
     },
     "metadata": {},
     "output_type": "display_data"
    },
    {
     "data": {
      "application/vnd.jupyter.widget-view+json": {
       "model_id": "8a16da1571d745a68c564818f3c6a1f0",
       "version_major": 2,
       "version_minor": 0
      },
      "text/plain": [
       "Select(description='DL model', options=('googlenet-v1', 'resnet-50'), value='googlenet-v1')"
      ]
     },
     "metadata": {},
     "output_type": "display_data"
    },
    {
     "data": {
      "application/vnd.jupyter.widget-view+json": {
       "model_id": "266a2af499584c9ca06c4a3ee16c0e7e",
       "version_major": 2,
       "version_minor": 0
      },
      "text/plain": [
       "BoundedIntText(value=1000, description='Iteration:', max=100000)"
      ]
     },
     "metadata": {},
     "output_type": "display_data"
    },
    {
     "data": {
      "application/vnd.jupyter.widget-view+json": {
       "model_id": "d1de785756c34af2967fb7280c38caf1",
       "version_major": 2,
       "version_minor": 0
      },
      "text/plain": [
       "Button(description='Run Benchmark', style=ButtonStyle(), tooltip='Press to start benchmarking')"
      ]
     },
     "metadata": {},
     "output_type": "display_data"
    },
    {
     "data": {
      "application/vnd.jupyter.widget-view+json": {
       "model_id": "a8d452f20cd64649ace704d0a15a116d",
       "version_major": 2,
       "version_minor": 0
      },
      "text/plain": [
       "HBox(children=(IntProgress(value=0, max=1000), HTML(value='')))"
      ]
     },
     "metadata": {},
     "output_type": "display_data"
    },
    {
     "name": "stdout",
     "output_type": "stream",
     "text": [
      "Total 12.22sec, 12.22ms/inf, 81.82fps\n"
     ]
    },
    {
     "data": {
      "application/vnd.jupyter.widget-view+json": {
       "model_id": "8955933a43ca4b1290a8a849265117ea",
       "version_major": 2,
       "version_minor": 0
      },
      "text/plain": [
       "HBox(children=(IntProgress(value=0), HTML(value='')))"
      ]
     },
     "metadata": {},
     "output_type": "display_data"
    },
    {
     "name": "stdout",
     "output_type": "stream",
     "text": [
      "Total  3.03sec, 30.29ms/inf, 33.01fps\n"
     ]
    }
   ],
   "source": [
    "inf_count = 0\n",
    "\n",
    "def callback(status, pydata):\n",
    "    global inf_count\n",
    "    inf_count += 1\n",
    "\n",
    "def benchmark(model, device='CPU', niter=1000, nireq=4):\n",
    "\n",
    "    global inf_count\n",
    "    base, ext = os.path.splitext(model)\n",
    "    ie = IECore()\n",
    "\n",
    "    if device == 'CPU':\n",
    "        config = { 'CPU_BIND_THREAD'         :'YES',\n",
    "                   'CPU_THREADS_NUM'         :'8', \n",
    "                   'CPU_THROUGHPUT_STREAMS'  :'4',\n",
    "                   'EXCLUSIVE_ASYNC_REQUESTS':'NO' }\n",
    "    else:\n",
    "        config = {}\n",
    "\n",
    "    net = ie.read_network(base+'.xml', base+'.bin')\n",
    "    exenet = ie.load_network(net, device, config=config, num_requests=nireq)\n",
    "    \"\"\"\n",
    "    met_keys = exenet.get_metric('SUPPORTED_METRICS')\n",
    "    cfg_keys = exenet.get_metric('SUPPORTED_CONFIG_KEYS')\n",
    "    for key in cfg_keys:\n",
    "        print('{:25} : {}'.format(key, exenet.get_config(key)) )\n",
    "    \"\"\"\n",
    "\n",
    "    async_api = True\n",
    "\n",
    "    _, model = os.path.split(base)\n",
    "\n",
    "    if async_api:\n",
    "        # Set callback function\n",
    "        for req in exenet.requests:\n",
    "            req.set_completion_callback(callback)\n",
    "\n",
    "    pbar = tqdm(total=niter)\n",
    "    pbar.set_description('{} ({})'.format(model, device))\n",
    "\n",
    "    inf_count = 0\n",
    "    start = time.perf_counter()\n",
    "    if async_api:\n",
    "        # Do inference\n",
    "        for i in range(niter):\n",
    "            req=-1\n",
    "            while req==-1:\n",
    "                req = exenet.get_idle_request_id()\n",
    "            exenet.requests[req].async_infer()\n",
    "            pbar.update(1)\n",
    "        # Wait for completion of all infer requests\n",
    "        while inf_count < niter:\n",
    "            pass\n",
    "    else:\n",
    "        for i in range(niter):\n",
    "            exenet.infer()\n",
    "            pbar.update(1)\n",
    "    end = time.perf_counter()\n",
    "\n",
    "    duration_sec = (end-start)\n",
    "    print('Total {:5.2f}sec, {:5.2f}ms/inf, {:5.2f}fps'.format(duration_sec, (duration_sec*1e3)/niter, niter/(duration_sec)) )\n",
    "\n",
    "def pressed(btn):\n",
    "    global device_sel, model_sel, start_btn, numiter\n",
    "    selected_model = model_sel.value\n",
    "    model = 'public/{}/FP16/{}.xml'.format(selected_model, selected_model)\n",
    "    niter = numiter.value\n",
    "    device = device_sel.value\n",
    "    benchmark(model, niter=niter, device=device)\n",
    "\n",
    "\n",
    "model_sel = widgets.Select(\n",
    "    options = [ 'googlenet-v1', 'resnet-50' ],\n",
    "    value = 'googlenet-v1',\n",
    "    description = 'Model',\n",
    "    disabled=False)\n",
    "\n",
    "device_sel = widgets.Select(\n",
    "    options = [ 'CPU', 'GPU', 'MYRIAD', 'HETERO:FPGA,CPU' ],\n",
    "    value = 'CPU',\n",
    "    description = 'Device',\n",
    "    disabled=False)\n",
    "\n",
    "start_btn = widgets.Button(\n",
    "    description = 'Run Benchmark',\n",
    "    disabled=False,\n",
    "    button_style='',\n",
    "    tooltip='Press to start benchmarking',\n",
    "    icon='')\n",
    "\n",
    "numiter = widgets.BoundedIntText(\n",
    "    value=1000,\n",
    "    min=0,\n",
    "    max=100000,\n",
    "    step=1,\n",
    "    description='Iteration:',\n",
    "    disabled=False\n",
    ")\n",
    "\n",
    "display(device_sel)\n",
    "display(model_sel)\n",
    "display(numiter)\n",
    "display(start_btn)\n",
    "start_btn.on_click(pressed)"
   ]
  },
  {
   "cell_type": "code",
   "execution_count": null,
   "metadata": {},
   "outputs": [],
   "source": []
  }
 ],
 "metadata": {
  "kernelspec": {
   "display_name": "Python 3",
   "language": "python",
   "name": "python3"
  },
  "language_info": {
   "codemirror_mode": {
    "name": "ipython",
    "version": 3
   },
   "file_extension": ".py",
   "mimetype": "text/x-python",
   "name": "python",
   "nbconvert_exporter": "python",
   "pygments_lexer": "ipython3",
   "version": "3.6.5"
  }
 },
 "nbformat": 4,
 "nbformat_minor": 4
}
